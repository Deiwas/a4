{
 "cells": [
  {
   "cell_type": "markdown",
   "id": "d24f1be8",
   "metadata": {},
   "source": [
    "# Лабараторная работа №4\n",
    "\n",
    "# Применение методов классификации"
   ]
  },
  {
   "cell_type": "code",
   "execution_count": 2,
   "id": "94491bb8",
   "metadata": {},
   "outputs": [],
   "source": [
    "import pandas as pd\n",
    "import numpy as np\n",
    "import seaborn as sns\n",
    "import matplotlib.pyplot as plt\n",
    "from sklearn.metrics import confusion_matrix, ConfusionMatrixDisplay\n",
    "from sklearn.preprocessing import StandardScaler\n",
    "from sklearn.model_selection import train_test_split\n",
    "from sklearn.neighbors import KNeighborsClassifier\n",
    "from sklearn.linear_model import LogisticRegression\n",
    "from sklearn.ensemble import RandomForestClassifier\n",
    "from sklearn.metrics import accuracy_score, precision_score, recall_score, balanced_accuracy_score\n",
    "from sklearn.metrics import f1_score, confusion_matrix, roc_auc_score, roc_curve, auc"
   ]
  },
  {
   "cell_type": "markdown",
   "id": "9a1cb1ae",
   "metadata": {},
   "source": [
    "### Импорт и предварительная обработка данных"
   ]
  },
  {
   "cell_type": "code",
   "execution_count": 3,
   "id": "d1489966",
   "metadata": {},
   "outputs": [
    {
     "data": {
      "text/html": [
       "<div>\n",
       "<style scoped>\n",
       "    .dataframe tbody tr th:only-of-type {\n",
       "        vertical-align: middle;\n",
       "    }\n",
       "\n",
       "    .dataframe tbody tr th {\n",
       "        vertical-align: top;\n",
       "    }\n",
       "\n",
       "    .dataframe thead th {\n",
       "        text-align: right;\n",
       "    }\n",
       "</style>\n",
       "<table border=\"1\" class=\"dataframe\">\n",
       "  <thead>\n",
       "    <tr style=\"text-align: right;\">\n",
       "      <th></th>\n",
       "      <th>Age</th>\n",
       "      <th>Sex</th>\n",
       "      <th>ChestPainType</th>\n",
       "      <th>RestingBP</th>\n",
       "      <th>Cholesterol</th>\n",
       "      <th>FastingBS</th>\n",
       "      <th>RestingECG</th>\n",
       "      <th>MaxHR</th>\n",
       "      <th>ExerciseAngina</th>\n",
       "      <th>Oldpeak</th>\n",
       "      <th>ST_Slope</th>\n",
       "      <th>HeartDisease</th>\n",
       "    </tr>\n",
       "  </thead>\n",
       "  <tbody>\n",
       "    <tr>\n",
       "      <th>0</th>\n",
       "      <td>40</td>\n",
       "      <td>M</td>\n",
       "      <td>ATA</td>\n",
       "      <td>140.0</td>\n",
       "      <td>289</td>\n",
       "      <td>0</td>\n",
       "      <td>Normal</td>\n",
       "      <td>172.0</td>\n",
       "      <td>N</td>\n",
       "      <td>0.0</td>\n",
       "      <td>Up</td>\n",
       "      <td>0</td>\n",
       "    </tr>\n",
       "    <tr>\n",
       "      <th>1</th>\n",
       "      <td>49</td>\n",
       "      <td>F</td>\n",
       "      <td>NAP</td>\n",
       "      <td>160.0</td>\n",
       "      <td>180</td>\n",
       "      <td>0</td>\n",
       "      <td>Normal</td>\n",
       "      <td>156.0</td>\n",
       "      <td>N</td>\n",
       "      <td>1.0</td>\n",
       "      <td>Flat</td>\n",
       "      <td>1</td>\n",
       "    </tr>\n",
       "    <tr>\n",
       "      <th>2</th>\n",
       "      <td>37</td>\n",
       "      <td>M</td>\n",
       "      <td>ATA</td>\n",
       "      <td>130.0</td>\n",
       "      <td>283</td>\n",
       "      <td>0</td>\n",
       "      <td>ST</td>\n",
       "      <td>98.0</td>\n",
       "      <td>N</td>\n",
       "      <td>0.0</td>\n",
       "      <td>Up</td>\n",
       "      <td>0</td>\n",
       "    </tr>\n",
       "    <tr>\n",
       "      <th>3</th>\n",
       "      <td>48</td>\n",
       "      <td>F</td>\n",
       "      <td>ASY</td>\n",
       "      <td>138.0</td>\n",
       "      <td>214</td>\n",
       "      <td>0</td>\n",
       "      <td>Normal</td>\n",
       "      <td>108.0</td>\n",
       "      <td>Y</td>\n",
       "      <td>1.5</td>\n",
       "      <td>Flat</td>\n",
       "      <td>1</td>\n",
       "    </tr>\n",
       "    <tr>\n",
       "      <th>4</th>\n",
       "      <td>54</td>\n",
       "      <td>M</td>\n",
       "      <td>NAP</td>\n",
       "      <td>150.0</td>\n",
       "      <td>195</td>\n",
       "      <td>0</td>\n",
       "      <td>Normal</td>\n",
       "      <td>122.0</td>\n",
       "      <td>N</td>\n",
       "      <td>0.0</td>\n",
       "      <td>Up</td>\n",
       "      <td>0</td>\n",
       "    </tr>\n",
       "    <tr>\n",
       "      <th>5</th>\n",
       "      <td>39</td>\n",
       "      <td>M</td>\n",
       "      <td>NAP</td>\n",
       "      <td>120.0</td>\n",
       "      <td>339</td>\n",
       "      <td>0</td>\n",
       "      <td>Normal</td>\n",
       "      <td>170.0</td>\n",
       "      <td>N</td>\n",
       "      <td>0.0</td>\n",
       "      <td>Up</td>\n",
       "      <td>0</td>\n",
       "    </tr>\n",
       "    <tr>\n",
       "      <th>6</th>\n",
       "      <td>45</td>\n",
       "      <td>F</td>\n",
       "      <td>ATA</td>\n",
       "      <td>130.0</td>\n",
       "      <td>237</td>\n",
       "      <td>0</td>\n",
       "      <td>Normal</td>\n",
       "      <td>170.0</td>\n",
       "      <td>N</td>\n",
       "      <td>0.0</td>\n",
       "      <td>Up</td>\n",
       "      <td>0</td>\n",
       "    </tr>\n",
       "    <tr>\n",
       "      <th>7</th>\n",
       "      <td>54</td>\n",
       "      <td>M</td>\n",
       "      <td>ATA</td>\n",
       "      <td>110.0</td>\n",
       "      <td>208</td>\n",
       "      <td>0</td>\n",
       "      <td>Normal</td>\n",
       "      <td>142.0</td>\n",
       "      <td>N</td>\n",
       "      <td>0.0</td>\n",
       "      <td>Up</td>\n",
       "      <td>0</td>\n",
       "    </tr>\n",
       "    <tr>\n",
       "      <th>8</th>\n",
       "      <td>37</td>\n",
       "      <td>M</td>\n",
       "      <td>ASY</td>\n",
       "      <td>140.0</td>\n",
       "      <td>207</td>\n",
       "      <td>0</td>\n",
       "      <td>Normal</td>\n",
       "      <td>130.0</td>\n",
       "      <td>Y</td>\n",
       "      <td>1.5</td>\n",
       "      <td>Flat</td>\n",
       "      <td>1</td>\n",
       "    </tr>\n",
       "    <tr>\n",
       "      <th>9</th>\n",
       "      <td>48</td>\n",
       "      <td>F</td>\n",
       "      <td>ATA</td>\n",
       "      <td>120.0</td>\n",
       "      <td>284</td>\n",
       "      <td>0</td>\n",
       "      <td>Normal</td>\n",
       "      <td>120.0</td>\n",
       "      <td>N</td>\n",
       "      <td>0.0</td>\n",
       "      <td>Up</td>\n",
       "      <td>0</td>\n",
       "    </tr>\n",
       "    <tr>\n",
       "      <th>10</th>\n",
       "      <td>37</td>\n",
       "      <td>F</td>\n",
       "      <td>NAP</td>\n",
       "      <td>130.0</td>\n",
       "      <td>211</td>\n",
       "      <td>0</td>\n",
       "      <td>Normal</td>\n",
       "      <td>142.0</td>\n",
       "      <td>N</td>\n",
       "      <td>0.0</td>\n",
       "      <td>Up</td>\n",
       "      <td>0</td>\n",
       "    </tr>\n",
       "    <tr>\n",
       "      <th>11</th>\n",
       "      <td>58</td>\n",
       "      <td>M</td>\n",
       "      <td>ATA</td>\n",
       "      <td>136.0</td>\n",
       "      <td>164</td>\n",
       "      <td>0</td>\n",
       "      <td>ST</td>\n",
       "      <td>99.0</td>\n",
       "      <td>Y</td>\n",
       "      <td>2.0</td>\n",
       "      <td>Flat</td>\n",
       "      <td>1</td>\n",
       "    </tr>\n",
       "    <tr>\n",
       "      <th>12</th>\n",
       "      <td>39</td>\n",
       "      <td>M</td>\n",
       "      <td>ATA</td>\n",
       "      <td>120.0</td>\n",
       "      <td>204</td>\n",
       "      <td>0</td>\n",
       "      <td>Normal</td>\n",
       "      <td>145.0</td>\n",
       "      <td>N</td>\n",
       "      <td>0.0</td>\n",
       "      <td>Up</td>\n",
       "      <td>0</td>\n",
       "    </tr>\n",
       "    <tr>\n",
       "      <th>13</th>\n",
       "      <td>49</td>\n",
       "      <td>M</td>\n",
       "      <td>ASY</td>\n",
       "      <td>140.0</td>\n",
       "      <td>234</td>\n",
       "      <td>0</td>\n",
       "      <td>Normal</td>\n",
       "      <td>140.0</td>\n",
       "      <td>Y</td>\n",
       "      <td>1.0</td>\n",
       "      <td>Flat</td>\n",
       "      <td>1</td>\n",
       "    </tr>\n",
       "    <tr>\n",
       "      <th>14</th>\n",
       "      <td>42</td>\n",
       "      <td>F</td>\n",
       "      <td>NAP</td>\n",
       "      <td>115.0</td>\n",
       "      <td>211</td>\n",
       "      <td>0</td>\n",
       "      <td>ST</td>\n",
       "      <td>137.0</td>\n",
       "      <td>N</td>\n",
       "      <td>0.0</td>\n",
       "      <td>Up</td>\n",
       "      <td>0</td>\n",
       "    </tr>\n",
       "    <tr>\n",
       "      <th>15</th>\n",
       "      <td>54</td>\n",
       "      <td>F</td>\n",
       "      <td>ATA</td>\n",
       "      <td>120.0</td>\n",
       "      <td>273</td>\n",
       "      <td>0</td>\n",
       "      <td>Normal</td>\n",
       "      <td>150.0</td>\n",
       "      <td>N</td>\n",
       "      <td>1.5</td>\n",
       "      <td>Flat</td>\n",
       "      <td>0</td>\n",
       "    </tr>\n",
       "    <tr>\n",
       "      <th>16</th>\n",
       "      <td>38</td>\n",
       "      <td>M</td>\n",
       "      <td>ASY</td>\n",
       "      <td>110.0</td>\n",
       "      <td>196</td>\n",
       "      <td>0</td>\n",
       "      <td>Normal</td>\n",
       "      <td>166.0</td>\n",
       "      <td>N</td>\n",
       "      <td>0.0</td>\n",
       "      <td>Flat</td>\n",
       "      <td>1</td>\n",
       "    </tr>\n",
       "    <tr>\n",
       "      <th>17</th>\n",
       "      <td>43</td>\n",
       "      <td>F</td>\n",
       "      <td>ATA</td>\n",
       "      <td>NaN</td>\n",
       "      <td>NaN</td>\n",
       "      <td>0</td>\n",
       "      <td>Normal</td>\n",
       "      <td>165.0</td>\n",
       "      <td>N</td>\n",
       "      <td>0.0</td>\n",
       "      <td>Up</td>\n",
       "      <td>0</td>\n",
       "    </tr>\n",
       "    <tr>\n",
       "      <th>18</th>\n",
       "      <td>60</td>\n",
       "      <td>M</td>\n",
       "      <td>ASY</td>\n",
       "      <td>100.0</td>\n",
       "      <td>248</td>\n",
       "      <td>0</td>\n",
       "      <td>Normal</td>\n",
       "      <td>125.0</td>\n",
       "      <td>N</td>\n",
       "      <td>1.0</td>\n",
       "      <td>Flat</td>\n",
       "      <td>1</td>\n",
       "    </tr>\n",
       "    <tr>\n",
       "      <th>19</th>\n",
       "      <td>36</td>\n",
       "      <td>M</td>\n",
       "      <td>ATA</td>\n",
       "      <td>120.0</td>\n",
       "      <td>267</td>\n",
       "      <td>0</td>\n",
       "      <td>Normal</td>\n",
       "      <td>160.0</td>\n",
       "      <td>N</td>\n",
       "      <td>3.0</td>\n",
       "      <td>Flat</td>\n",
       "      <td>1</td>\n",
       "    </tr>\n",
       "  </tbody>\n",
       "</table>\n",
       "</div>"
      ],
      "text/plain": [
       "    Age Sex ChestPainType  RestingBP Cholesterol  FastingBS RestingECG  MaxHR  \\\n",
       "0    40   M           ATA      140.0         289          0     Normal  172.0   \n",
       "1    49   F           NAP      160.0         180          0     Normal  156.0   \n",
       "2    37   M           ATA      130.0         283          0         ST   98.0   \n",
       "3    48   F           ASY      138.0         214          0     Normal  108.0   \n",
       "4    54   M           NAP      150.0         195          0     Normal  122.0   \n",
       "5    39   M           NAP      120.0         339          0     Normal  170.0   \n",
       "6    45   F           ATA      130.0         237          0     Normal  170.0   \n",
       "7    54   M           ATA      110.0         208          0     Normal  142.0   \n",
       "8    37   M           ASY      140.0         207          0     Normal  130.0   \n",
       "9    48   F           ATA      120.0         284          0     Normal  120.0   \n",
       "10   37   F           NAP      130.0         211          0     Normal  142.0   \n",
       "11   58   M           ATA      136.0         164          0         ST   99.0   \n",
       "12   39   M           ATA      120.0         204          0     Normal  145.0   \n",
       "13   49   M           ASY      140.0         234          0     Normal  140.0   \n",
       "14   42   F           NAP      115.0         211          0         ST  137.0   \n",
       "15   54   F           ATA      120.0         273          0     Normal  150.0   \n",
       "16   38   M           ASY      110.0         196          0     Normal  166.0   \n",
       "17   43   F           ATA        NaN         NaN          0     Normal  165.0   \n",
       "18   60   M           ASY      100.0         248          0     Normal  125.0   \n",
       "19   36   M           ATA      120.0         267          0     Normal  160.0   \n",
       "\n",
       "   ExerciseAngina  Oldpeak ST_Slope  HeartDisease  \n",
       "0               N      0.0       Up             0  \n",
       "1               N      1.0     Flat             1  \n",
       "2               N      0.0       Up             0  \n",
       "3               Y      1.5     Flat             1  \n",
       "4               N      0.0       Up             0  \n",
       "5               N      0.0       Up             0  \n",
       "6               N      0.0       Up             0  \n",
       "7               N      0.0       Up             0  \n",
       "8               Y      1.5     Flat             1  \n",
       "9               N      0.0       Up             0  \n",
       "10              N      0.0       Up             0  \n",
       "11              Y      2.0     Flat             1  \n",
       "12              N      0.0       Up             0  \n",
       "13              Y      1.0     Flat             1  \n",
       "14              N      0.0       Up             0  \n",
       "15              N      1.5     Flat             0  \n",
       "16              N      0.0     Flat             1  \n",
       "17              N      0.0       Up             0  \n",
       "18              N      1.0     Flat             1  \n",
       "19              N      3.0     Flat             1  "
      ]
     },
     "execution_count": 3,
     "metadata": {},
     "output_type": "execute_result"
    }
   ],
   "source": [
    "df = pd.read_csv('1heart.csv')\n",
    "df.head(20)"
   ]
  },
  {
   "cell_type": "code",
   "execution_count": 4,
   "id": "655ba9f0",
   "metadata": {},
   "outputs": [
    {
     "name": "stdout",
     "output_type": "stream",
     "text": [
      "<class 'pandas.core.frame.DataFrame'>\n",
      "RangeIndex: 925 entries, 0 to 924\n",
      "Data columns (total 12 columns):\n",
      " #   Column          Non-Null Count  Dtype  \n",
      "---  ------          --------------  -----  \n",
      " 0   Age             925 non-null    int64  \n",
      " 1   Sex             925 non-null    object \n",
      " 2   ChestPainType   925 non-null    object \n",
      " 3   RestingBP       923 non-null    float64\n",
      " 4   Cholesterol     924 non-null    object \n",
      " 5   FastingBS       925 non-null    int64  \n",
      " 6   RestingECG      924 non-null    object \n",
      " 7   MaxHR           924 non-null    float64\n",
      " 8   ExerciseAngina  925 non-null    object \n",
      " 9   Oldpeak         925 non-null    float64\n",
      " 10  ST_Slope        925 non-null    object \n",
      " 11  HeartDisease    925 non-null    int64  \n",
      "dtypes: float64(3), int64(3), object(6)\n",
      "memory usage: 86.8+ KB\n"
     ]
    }
   ],
   "source": [
    "df.info()"
   ]
  },
  {
   "cell_type": "code",
   "execution_count": 5,
   "id": "be66dc35",
   "metadata": {},
   "outputs": [
    {
     "data": {
      "text/plain": [
       "Index(['Age', 'Sex', 'ChestPainType', 'RestingBP', 'Cholesterol', 'FastingBS',\n",
       "       'RestingECG', 'MaxHR', 'ExerciseAngina', 'Oldpeak', 'ST_Slope',\n",
       "       'HeartDisease'],\n",
       "      dtype='object')"
      ]
     },
     "execution_count": 5,
     "metadata": {},
     "output_type": "execute_result"
    }
   ],
   "source": [
    "df.columns"
   ]
  },
  {
   "cell_type": "markdown",
   "id": "e2d0b2c0",
   "metadata": {},
   "source": [
    "Проверка датафрема на дубликаты"
   ]
  },
  {
   "cell_type": "code",
   "execution_count": 6,
   "id": "a10d0747",
   "metadata": {},
   "outputs": [
    {
     "name": "stdout",
     "output_type": "stream",
     "text": [
      "3\n"
     ]
    }
   ],
   "source": [
    "print(df.duplicated().sum())"
   ]
  },
  {
   "cell_type": "code",
   "execution_count": 7,
   "id": "5553cb1c",
   "metadata": {},
   "outputs": [
    {
     "name": "stdout",
     "output_type": "stream",
     "text": [
      "0\n"
     ]
    }
   ],
   "source": [
    "df = df.drop_duplicates()\n",
    "print(df.duplicated().sum())"
   ]
  },
  {
   "cell_type": "code",
   "execution_count": 8,
   "id": "210eea9e",
   "metadata": {},
   "outputs": [
    {
     "name": "stdout",
     "output_type": "stream",
     "text": [
      "Age               0\n",
      "Sex               0\n",
      "ChestPainType     0\n",
      "RestingBP         2\n",
      "Cholesterol       1\n",
      "FastingBS         0\n",
      "RestingECG        1\n",
      "MaxHR             1\n",
      "ExerciseAngina    0\n",
      "Oldpeak           0\n",
      "ST_Slope          0\n",
      "HeartDisease      0\n",
      "dtype: int64\n"
     ]
    }
   ],
   "source": [
    "print(df.isna().sum())"
   ]
  },
  {
   "cell_type": "markdown",
   "id": "b8374e74",
   "metadata": {},
   "source": [
    "Проверка датафрейма на наличие пустых значений"
   ]
  },
  {
   "cell_type": "code",
   "execution_count": 9,
   "id": "156cc582",
   "metadata": {},
   "outputs": [
    {
     "name": "stdout",
     "output_type": "stream",
     "text": [
      "Age               0\n",
      "Sex               0\n",
      "ChestPainType     0\n",
      "RestingBP         0\n",
      "Cholesterol       0\n",
      "FastingBS         0\n",
      "RestingECG        0\n",
      "MaxHR             0\n",
      "ExerciseAngina    0\n",
      "Oldpeak           0\n",
      "ST_Slope          0\n",
      "HeartDisease      0\n",
      "dtype: int64\n"
     ]
    }
   ],
   "source": [
    "df = df.dropna(subset=['RestingBP'])\n",
    "df = df.dropna(subset=['RestingECG'])\n",
    "df = df.dropna(subset=['MaxHR'])\n",
    "print(df.isna().sum())"
   ]
  },
  {
   "cell_type": "markdown",
   "id": "987a9ca3",
   "metadata": {},
   "source": [
    "Конветируем значение колонки в числовое, убираем от туда букву, по какой-то причине попавшую в одну строку."
   ]
  },
  {
   "cell_type": "code",
   "execution_count": 10,
   "id": "7ee675aa",
   "metadata": {},
   "outputs": [
    {
     "name": "stdout",
     "output_type": "stream",
     "text": [
      "<class 'pandas.core.frame.DataFrame'>\n",
      "Int64Index: 918 entries, 0 to 924\n",
      "Data columns (total 12 columns):\n",
      " #   Column          Non-Null Count  Dtype  \n",
      "---  ------          --------------  -----  \n",
      " 0   Age             918 non-null    int64  \n",
      " 1   Sex             918 non-null    object \n",
      " 2   ChestPainType   918 non-null    object \n",
      " 3   RestingBP       918 non-null    float64\n",
      " 4   Cholesterol     918 non-null    int64  \n",
      " 5   FastingBS       918 non-null    int64  \n",
      " 6   RestingECG      918 non-null    object \n",
      " 7   MaxHR           918 non-null    float64\n",
      " 8   ExerciseAngina  918 non-null    object \n",
      " 9   Oldpeak         918 non-null    float64\n",
      " 10  ST_Slope        918 non-null    object \n",
      " 11  HeartDisease    918 non-null    int64  \n",
      "dtypes: float64(3), int64(4), object(5)\n",
      "memory usage: 93.2+ KB\n"
     ]
    }
   ],
   "source": [
    "df['Cholesterol'] = df['Cholesterol'].str.replace(\"a\",\"\")\n",
    "df['Cholesterol'] = pd.to_numeric(df['Cholesterol'])\n",
    "df.info()"
   ]
  },
  {
   "cell_type": "markdown",
   "id": "4e88bc60",
   "metadata": {},
   "source": [
    "Отбрасываем текстовые значения"
   ]
  },
  {
   "cell_type": "code",
   "execution_count": 11,
   "id": "a217379e",
   "metadata": {},
   "outputs": [
    {
     "data": {
      "text/html": [
       "<div>\n",
       "<style scoped>\n",
       "    .dataframe tbody tr th:only-of-type {\n",
       "        vertical-align: middle;\n",
       "    }\n",
       "\n",
       "    .dataframe tbody tr th {\n",
       "        vertical-align: top;\n",
       "    }\n",
       "\n",
       "    .dataframe thead th {\n",
       "        text-align: right;\n",
       "    }\n",
       "</style>\n",
       "<table border=\"1\" class=\"dataframe\">\n",
       "  <thead>\n",
       "    <tr style=\"text-align: right;\">\n",
       "      <th></th>\n",
       "      <th>Age</th>\n",
       "      <th>RestingBP</th>\n",
       "      <th>Cholesterol</th>\n",
       "      <th>FastingBS</th>\n",
       "      <th>MaxHR</th>\n",
       "      <th>Oldpeak</th>\n",
       "      <th>HeartDisease</th>\n",
       "    </tr>\n",
       "  </thead>\n",
       "  <tbody>\n",
       "    <tr>\n",
       "      <th>0</th>\n",
       "      <td>40</td>\n",
       "      <td>140.0</td>\n",
       "      <td>289</td>\n",
       "      <td>0</td>\n",
       "      <td>172.0</td>\n",
       "      <td>0.0</td>\n",
       "      <td>0</td>\n",
       "    </tr>\n",
       "    <tr>\n",
       "      <th>1</th>\n",
       "      <td>49</td>\n",
       "      <td>160.0</td>\n",
       "      <td>180</td>\n",
       "      <td>0</td>\n",
       "      <td>156.0</td>\n",
       "      <td>1.0</td>\n",
       "      <td>1</td>\n",
       "    </tr>\n",
       "    <tr>\n",
       "      <th>2</th>\n",
       "      <td>37</td>\n",
       "      <td>130.0</td>\n",
       "      <td>283</td>\n",
       "      <td>0</td>\n",
       "      <td>98.0</td>\n",
       "      <td>0.0</td>\n",
       "      <td>0</td>\n",
       "    </tr>\n",
       "    <tr>\n",
       "      <th>3</th>\n",
       "      <td>48</td>\n",
       "      <td>138.0</td>\n",
       "      <td>214</td>\n",
       "      <td>0</td>\n",
       "      <td>108.0</td>\n",
       "      <td>1.5</td>\n",
       "      <td>1</td>\n",
       "    </tr>\n",
       "    <tr>\n",
       "      <th>4</th>\n",
       "      <td>54</td>\n",
       "      <td>150.0</td>\n",
       "      <td>195</td>\n",
       "      <td>0</td>\n",
       "      <td>122.0</td>\n",
       "      <td>0.0</td>\n",
       "      <td>0</td>\n",
       "    </tr>\n",
       "    <tr>\n",
       "      <th>5</th>\n",
       "      <td>39</td>\n",
       "      <td>120.0</td>\n",
       "      <td>339</td>\n",
       "      <td>0</td>\n",
       "      <td>170.0</td>\n",
       "      <td>0.0</td>\n",
       "      <td>0</td>\n",
       "    </tr>\n",
       "    <tr>\n",
       "      <th>6</th>\n",
       "      <td>45</td>\n",
       "      <td>130.0</td>\n",
       "      <td>237</td>\n",
       "      <td>0</td>\n",
       "      <td>170.0</td>\n",
       "      <td>0.0</td>\n",
       "      <td>0</td>\n",
       "    </tr>\n",
       "    <tr>\n",
       "      <th>7</th>\n",
       "      <td>54</td>\n",
       "      <td>110.0</td>\n",
       "      <td>208</td>\n",
       "      <td>0</td>\n",
       "      <td>142.0</td>\n",
       "      <td>0.0</td>\n",
       "      <td>0</td>\n",
       "    </tr>\n",
       "    <tr>\n",
       "      <th>8</th>\n",
       "      <td>37</td>\n",
       "      <td>140.0</td>\n",
       "      <td>207</td>\n",
       "      <td>0</td>\n",
       "      <td>130.0</td>\n",
       "      <td>1.5</td>\n",
       "      <td>1</td>\n",
       "    </tr>\n",
       "    <tr>\n",
       "      <th>9</th>\n",
       "      <td>48</td>\n",
       "      <td>120.0</td>\n",
       "      <td>284</td>\n",
       "      <td>0</td>\n",
       "      <td>120.0</td>\n",
       "      <td>0.0</td>\n",
       "      <td>0</td>\n",
       "    </tr>\n",
       "    <tr>\n",
       "      <th>10</th>\n",
       "      <td>37</td>\n",
       "      <td>130.0</td>\n",
       "      <td>211</td>\n",
       "      <td>0</td>\n",
       "      <td>142.0</td>\n",
       "      <td>0.0</td>\n",
       "      <td>0</td>\n",
       "    </tr>\n",
       "    <tr>\n",
       "      <th>11</th>\n",
       "      <td>58</td>\n",
       "      <td>136.0</td>\n",
       "      <td>164</td>\n",
       "      <td>0</td>\n",
       "      <td>99.0</td>\n",
       "      <td>2.0</td>\n",
       "      <td>1</td>\n",
       "    </tr>\n",
       "    <tr>\n",
       "      <th>12</th>\n",
       "      <td>39</td>\n",
       "      <td>120.0</td>\n",
       "      <td>204</td>\n",
       "      <td>0</td>\n",
       "      <td>145.0</td>\n",
       "      <td>0.0</td>\n",
       "      <td>0</td>\n",
       "    </tr>\n",
       "    <tr>\n",
       "      <th>13</th>\n",
       "      <td>49</td>\n",
       "      <td>140.0</td>\n",
       "      <td>234</td>\n",
       "      <td>0</td>\n",
       "      <td>140.0</td>\n",
       "      <td>1.0</td>\n",
       "      <td>1</td>\n",
       "    </tr>\n",
       "    <tr>\n",
       "      <th>14</th>\n",
       "      <td>42</td>\n",
       "      <td>115.0</td>\n",
       "      <td>211</td>\n",
       "      <td>0</td>\n",
       "      <td>137.0</td>\n",
       "      <td>0.0</td>\n",
       "      <td>0</td>\n",
       "    </tr>\n",
       "    <tr>\n",
       "      <th>15</th>\n",
       "      <td>54</td>\n",
       "      <td>120.0</td>\n",
       "      <td>273</td>\n",
       "      <td>0</td>\n",
       "      <td>150.0</td>\n",
       "      <td>1.5</td>\n",
       "      <td>0</td>\n",
       "    </tr>\n",
       "    <tr>\n",
       "      <th>16</th>\n",
       "      <td>38</td>\n",
       "      <td>110.0</td>\n",
       "      <td>196</td>\n",
       "      <td>0</td>\n",
       "      <td>166.0</td>\n",
       "      <td>0.0</td>\n",
       "      <td>1</td>\n",
       "    </tr>\n",
       "    <tr>\n",
       "      <th>18</th>\n",
       "      <td>60</td>\n",
       "      <td>100.0</td>\n",
       "      <td>248</td>\n",
       "      <td>0</td>\n",
       "      <td>125.0</td>\n",
       "      <td>1.0</td>\n",
       "      <td>1</td>\n",
       "    </tr>\n",
       "    <tr>\n",
       "      <th>19</th>\n",
       "      <td>36</td>\n",
       "      <td>120.0</td>\n",
       "      <td>267</td>\n",
       "      <td>0</td>\n",
       "      <td>160.0</td>\n",
       "      <td>3.0</td>\n",
       "      <td>1</td>\n",
       "    </tr>\n",
       "    <tr>\n",
       "      <th>20</th>\n",
       "      <td>43</td>\n",
       "      <td>100.0</td>\n",
       "      <td>223</td>\n",
       "      <td>0</td>\n",
       "      <td>142.0</td>\n",
       "      <td>0.0</td>\n",
       "      <td>0</td>\n",
       "    </tr>\n",
       "  </tbody>\n",
       "</table>\n",
       "</div>"
      ],
      "text/plain": [
       "    Age  RestingBP  Cholesterol  FastingBS  MaxHR  Oldpeak  HeartDisease\n",
       "0    40      140.0          289          0  172.0      0.0             0\n",
       "1    49      160.0          180          0  156.0      1.0             1\n",
       "2    37      130.0          283          0   98.0      0.0             0\n",
       "3    48      138.0          214          0  108.0      1.5             1\n",
       "4    54      150.0          195          0  122.0      0.0             0\n",
       "5    39      120.0          339          0  170.0      0.0             0\n",
       "6    45      130.0          237          0  170.0      0.0             0\n",
       "7    54      110.0          208          0  142.0      0.0             0\n",
       "8    37      140.0          207          0  130.0      1.5             1\n",
       "9    48      120.0          284          0  120.0      0.0             0\n",
       "10   37      130.0          211          0  142.0      0.0             0\n",
       "11   58      136.0          164          0   99.0      2.0             1\n",
       "12   39      120.0          204          0  145.0      0.0             0\n",
       "13   49      140.0          234          0  140.0      1.0             1\n",
       "14   42      115.0          211          0  137.0      0.0             0\n",
       "15   54      120.0          273          0  150.0      1.5             0\n",
       "16   38      110.0          196          0  166.0      0.0             1\n",
       "18   60      100.0          248          0  125.0      1.0             1\n",
       "19   36      120.0          267          0  160.0      3.0             1\n",
       "20   43      100.0          223          0  142.0      0.0             0"
      ]
     },
     "execution_count": 11,
     "metadata": {},
     "output_type": "execute_result"
    }
   ],
   "source": [
    "df = df.drop('Sex', axis=1)\n",
    "df = df.drop('ChestPainType', axis=1)\n",
    "df = df.drop('RestingECG', axis=1)\n",
    "df = df.drop('ExerciseAngina', axis=1)\n",
    "df = df.drop('ST_Slope', axis=1)\n",
    "df.head(20)"
   ]
  },
  {
   "cell_type": "code",
   "execution_count": 12,
   "id": "3a027ed4",
   "metadata": {},
   "outputs": [
    {
     "name": "stdout",
     "output_type": "stream",
     "text": [
      "<class 'pandas.core.frame.DataFrame'>\n",
      "Int64Index: 918 entries, 0 to 924\n",
      "Data columns (total 7 columns):\n",
      " #   Column        Non-Null Count  Dtype  \n",
      "---  ------        --------------  -----  \n",
      " 0   Age           918 non-null    int64  \n",
      " 1   RestingBP     918 non-null    float64\n",
      " 2   Cholesterol   918 non-null    int64  \n",
      " 3   FastingBS     918 non-null    int64  \n",
      " 4   MaxHR         918 non-null    float64\n",
      " 5   Oldpeak       918 non-null    float64\n",
      " 6   HeartDisease  918 non-null    int64  \n",
      "dtypes: float64(3), int64(4)\n",
      "memory usage: 57.4 KB\n"
     ]
    }
   ],
   "source": [
    "df.info()"
   ]
  },
  {
   "cell_type": "markdown",
   "id": "80dc4a10",
   "metadata": {},
   "source": [
    "Обработка данных завершена"
   ]
  },
  {
   "cell_type": "markdown",
   "id": "0b753e97",
   "metadata": {},
   "source": [
    "Целевым признаком выберем колонку с информацией о наличии или отсутствии сердечного заболевания. Уберём из таблицы с признаками столбцы, сильно коррелирующие друг с другом, а также значения, слишком слабо коррелирующие с целевым признаком:"
   ]
  },
  {
   "cell_type": "code",
   "execution_count": 13,
   "id": "3871b4a2",
   "metadata": {},
   "outputs": [
    {
     "data": {
      "text/plain": [
       "<AxesSubplot:>"
      ]
     },
     "execution_count": 13,
     "metadata": {},
     "output_type": "execute_result"
    },
    {
     "data": {
      "image/png": "[encoded data removed]",
      "text/plain": [
       "<Figure size 1080x576 with 2 Axes>"
      ]
     },
     "metadata": {
      "needs_background": "light"
     },
     "output_type": "display_data"
    }
   ],
   "source": [
    "plt.figure(figsize = (15,8))\n",
    "sns.heatmap(df.corr(), annot = True, fmt='.1g', square=True)"
   ]
  },
  {
   "cell_type": "code",
   "execution_count": 14,
   "id": "245cb74f",
   "metadata": {},
   "outputs": [],
   "source": [
    "sc = StandardScaler()\n",
    "y = df['HeartDisease'] # Вектор целевой переменной\n",
    "x = sc.fit_transform(df.drop(['HeartDisease', 'Age', 'MaxHR'], axis=1))"
   ]
  },
  {
   "cell_type": "markdown",
   "id": "1d2bbda3",
   "metadata": {},
   "source": [
    "Разобъём набор данных на тренировочной и тестовый датасеты с помощью train_test_split:"
   ]
  },
  {
   "cell_type": "code",
   "execution_count": 15,
   "id": "783c0652",
   "metadata": {},
   "outputs": [],
   "source": [
    "x_train, x_test, y_train, y_test = train_test_split(x, y, test_size = 0.3, random_state = 1)"
   ]
  },
  {
   "cell_type": "markdown",
   "id": "d0b3934a",
   "metadata": {},
   "source": [
    "### Разработаем предсказательную модель качественного отклика методом k-ближайших соседей:"
   ]
  },
  {
   "cell_type": "code",
   "execution_count": 16,
   "id": "1614bf25",
   "metadata": {},
   "outputs": [],
   "source": [
    "knn = KNeighborsClassifier(metric='euclidean') # Инициализируем модель\n",
    "knn.fit(x_train, y_train)\n",
    "train_predictions = knn.predict(x_test)"
   ]
  },
  {
   "cell_type": "markdown",
   "id": "d953398b",
   "metadata": {},
   "source": [
    "Подсчитаем метрики \"Accuracy\", \"Precision\", \"Recall\", \"Balanced accuracy\", \"F1 score\":"
   ]
  },
  {
   "cell_type": "code",
   "execution_count": 17,
   "id": "de2c163f",
   "metadata": {},
   "outputs": [
    {
     "name": "stdout",
     "output_type": "stream",
     "text": [
      "accuracy: 0.6847826086956522\n",
      "precision: 0.6948051948051948\n",
      "recall: 0.7278911564625851\n",
      "balanced accuracy: 0.6817750355956336\n",
      "f1: 0.7109634551495015\n"
     ]
    }
   ],
   "source": [
    "acc = accuracy_score(y_test, train_predictions)\n",
    "pre = precision_score(y_test, train_predictions)\n",
    "rec = recall_score(y_test, train_predictions)\n",
    "bal_acc = balanced_accuracy_score(y_test, train_predictions)\n",
    "f1 = f1_score(y_test, train_predictions)\n",
    "print('accuracy: ' + str(acc)) # Доля правильных ответов\n",
    "print('precision: ' + str(pre)) # Точность\n",
    "print('recall: ' + str(rec)) # Полнота\n",
    "print('balanced accuracy: ' + str(bal_acc)) # Баланс между метриками\n",
    "print('f1: ' + str(f1))"
   ]
  },
  {
   "cell_type": "markdown",
   "id": "53e62794",
   "metadata": {},
   "source": [
    "Высчитаем матрицу ошибок:"
   ]
  },
  {
   "cell_type": "code",
   "execution_count": 18,
   "id": "830cbd5b",
   "metadata": {},
   "outputs": [
    {
     "data": {
      "image/png": "[encoded data removed]",
      "text/plain": [
       "<Figure size 432x288 with 2 Axes>"
      ]
     },
     "metadata": {
      "needs_background": "light"
     },
     "output_type": "display_data"
    },
    {
     "name": "stdout",
     "output_type": "stream",
     "text": [
      "True Positive: 107\n",
      "False Positive: 47\n",
      "True Negative: 82\n",
      "False Negative: 40\n"
     ]
    }
   ],
   "source": [
    "cm = confusion_matrix(y_test,train_predictions)\n",
    "disp = ConfusionMatrixDisplay(confusion_matrix=cm, display_labels=knn.classes_)\n",
    "disp.plot()\n",
    "plt.show()\n",
    "tn, fp, fn, tp = cm.ravel()\n",
    "print('True Positive: ' + str(tp))\n",
    "print('False Positive: ' + str(fp))\n",
    "print('True Negative: ' + str(tn))\n",
    "print('False Negative: ' + str(fn))"
   ]
  },
  {
   "cell_type": "markdown",
   "id": "9d731651",
   "metadata": {},
   "source": [
    "Высчитаем ROC AUC:"
   ]
  },
  {
   "cell_type": "code",
   "execution_count": 19,
   "id": "69f85b74",
   "metadata": {},
   "outputs": [
    {
     "name": "stdout",
     "output_type": "stream",
     "text": [
      "Метод k-ближайших соседей: ROC AUC=0.7427358540315351\n"
     ]
    }
   ],
   "source": [
    "knn_probs = knn.predict_proba(x_test) # получаем предказания\n",
    "knn_probs = knn_probs[:, 1]\n",
    "knn_auc = roc_auc_score(y_test, knn_probs) # рассчитываем ROC AUC\n",
    "print('Метод k-ближайших соседей: ROC AUC=' + str(knn_auc))\n",
    "fpr_knn, tpr_knn, treshold = roc_curve(y_test, knn_probs) # рассчитываем roc-кривую\n",
    "knn_roc_auc = auc(fpr_knn, tpr_knn)"
   ]
  },
  {
   "cell_type": "markdown",
   "id": "593c5780",
   "metadata": {},
   "source": [
    "### Разработаем предсказательную модель качественного отклика методом логистической регрессии:"
   ]
  },
  {
   "cell_type": "code",
   "execution_count": 20,
   "id": "79e9a0f9",
   "metadata": {},
   "outputs": [],
   "source": [
    "lr = LogisticRegression(max_iter=1000)\n",
    "lr.fit(x_train, y_train)\n",
    "train_predictions = lr.predict(x_test)"
   ]
  },
  {
   "cell_type": "markdown",
   "id": "cbd19f0e",
   "metadata": {},
   "source": [
    "Подсчитаем метрики \"Accuracy\", \"Precision\", \"Recall\", \"Balanced accuracy\", \"F1 score\":"
   ]
  },
  {
   "cell_type": "code",
   "execution_count": 21,
   "id": "0395622f",
   "metadata": {},
   "outputs": [
    {
     "name": "stdout",
     "output_type": "stream",
     "text": [
      "accuracy: 0.7318840579710145\n",
      "precision: 0.7588652482269503\n",
      "recall: 0.7278911564625851\n",
      "balanced accuracy: 0.7321626324948585\n",
      "f1: 0.7430555555555556\n"
     ]
    }
   ],
   "source": [
    "acc = accuracy_score(y_test, train_predictions)\n",
    "pre = precision_score(y_test, train_predictions)\n",
    "rec = recall_score(y_test, train_predictions)\n",
    "bal_acc = balanced_accuracy_score(y_test, train_predictions)\n",
    "f1 = f1_score(y_test, train_predictions)\n",
    "print('accuracy: ' + str(acc))\n",
    "print('precision: ' + str(pre))\n",
    "print('recall: ' + str(rec))\n",
    "print('balanced accuracy: ' + str(bal_acc))\n",
    "print('f1: ' + str(f1))"
   ]
  },
  {
   "cell_type": "markdown",
   "id": "5d3bc7b6",
   "metadata": {},
   "source": [
    "Высчитаем матрицу ошибок:"
   ]
  },
  {
   "cell_type": "code",
   "execution_count": 22,
   "id": "92f55993",
   "metadata": {},
   "outputs": [
    {
     "data": {
      "image/png": "[encoded data removed]",
      "text/plain": [
       "<Figure size 432x288 with 2 Axes>"
      ]
     },
     "metadata": {
      "needs_background": "light"
     },
     "output_type": "display_data"
    },
    {
     "name": "stdout",
     "output_type": "stream",
     "text": [
      "True Positive: 107\n",
      "False Positive: 34\n",
      "True Negative: 95\n",
      "False Negative: 40\n"
     ]
    }
   ],
   "source": [
    "cm = confusion_matrix(y_test, train_predictions)\n",
    "disp = ConfusionMatrixDisplay(confusion_matrix=cm, display_labels=lr.classes_)\n",
    "disp.plot()\n",
    "plt.show()\n",
    "tn, fp, fn, tp = cm.ravel()\n",
    "print('True Positive: ' + str(tp))\n",
    "print('False Positive: ' + str(fp))\n",
    "print('True Negative: ' + str(tn))\n",
    "print('False Negative: ' + str(fn))"
   ]
  },
  {
   "cell_type": "markdown",
   "id": "d91e9bcc",
   "metadata": {},
   "source": [
    "Высчитаем ROC AUC:"
   ]
  },
  {
   "cell_type": "code",
   "execution_count": 23,
   "id": "9d31e077",
   "metadata": {},
   "outputs": [
    {
     "name": "stdout",
     "output_type": "stream",
     "text": [
      "Логистическая регрессия: ROC AUC=0.7801244528819279\n"
     ]
    }
   ],
   "source": [
    "lr_probs = lr.predict_proba(x_test)\n",
    "lr_probs = lr_probs[:, 1]\n",
    "lr_auc = roc_auc_score(y_test, lr_probs)\n",
    "print('Логистическая регрессия: ROC AUC=' +str(lr_auc))\n",
    "fpr_lr, tpr_lr, treshold = roc_curve(y_test, lr_probs)\n",
    "lr_roc_auc = auc(fpr_lr, tpr_lr)"
   ]
  },
  {
   "cell_type": "markdown",
   "id": "5933037f",
   "metadata": {},
   "source": [
    "### Разработаем предсказательную модель качественного отклика методом случайного леса"
   ]
  },
  {
   "cell_type": "code",
   "execution_count": 24,
   "id": "5bafcf8b",
   "metadata": {},
   "outputs": [],
   "source": [
    "rfc = RandomForestClassifier()\n",
    "rfc.fit(x_train, y_train)\n",
    "train_predictions = rfc.predict(x_test)"
   ]
  },
  {
   "cell_type": "markdown",
   "id": "28df0780",
   "metadata": {},
   "source": [
    "Знеачение \"max_depth\" по умолчанию равно \"None\", что означает что узлы будут расширяться до тех пор, пока все листья не станут чистыми или пока все листья не будут содержать выборок меньше, чем \"min_samples_split\", которое по умолчанию равно двойке. Значение \"n_estimators\", отображающее количество деревьев в лесу выставлено по умолчанию равным 100."
   ]
  },
  {
   "cell_type": "markdown",
   "id": "01f93cf6",
   "metadata": {},
   "source": [
    "Подсчитаем метрики \"Accuracy\", \"Precision\", \"Recall\", \"Balanced accuracy\", \"F1 score\":"
   ]
  },
  {
   "cell_type": "code",
   "execution_count": 26,
   "id": "58b2853f",
   "metadata": {},
   "outputs": [
    {
     "name": "stdout",
     "output_type": "stream",
     "text": [
      "accuracy: 0.6702898550724637\n",
      "precision: 0.6866666666666666\n",
      "recall: 0.7006802721088435\n",
      "balanced accuracy: 0.6681695934187628\n",
      "f1: 0.6936026936026937\n"
     ]
    }
   ],
   "source": [
    "acc = accuracy_score(y_test, train_predictions)\n",
    "pre = precision_score(y_test, train_predictions)\n",
    "rec = recall_score(y_test, train_predictions)\n",
    "bal_acc = balanced_accuracy_score(y_test, train_predictions)\n",
    "f1 = f1_score(y_test, train_predictions)\n",
    "print('accuracy: ' + str(acc))\n",
    "print('precision: ' + str(pre))\n",
    "print('recall: ' + str(rec))\n",
    "print('balanced accuracy: ' + str(bal_acc))\n",
    "print('f1: ' + str(f1))"
   ]
  },
  {
   "cell_type": "code",
   "execution_count": 27,
   "id": "55e86e48",
   "metadata": {},
   "outputs": [
    {
     "data": {
      "image/png": "[encoded data removed]",
      "text/plain": [
       "<Figure size 432x288 with 2 Axes>"
      ]
     },
     "metadata": {
      "needs_background": "light"
     },
     "output_type": "display_data"
    },
    {
     "name": "stdout",
     "output_type": "stream",
     "text": [
      "True Positive: 103\n",
      "False Positive: 47\n",
      "True Negative: 82\n",
      "False Negative: 44\n"
     ]
    }
   ],
   "source": [
    "cm = confusion_matrix(y_test, train_predictions)\n",
    "disp = ConfusionMatrixDisplay(confusion_matrix=cm, display_labels=rfc.classes_)\n",
    "disp.plot()\n",
    "plt.show()\n",
    "tn, fp, fn, tp = cm.ravel()\n",
    "print('True Positive: ' + str(tp))\n",
    "print('False Positive: ' + str(fp))\n",
    "print('True Negative: ' + str(tn))\n",
    "print('False Negative: ' + str(fn))"
   ]
  },
  {
   "cell_type": "code",
   "execution_count": 28,
   "id": "8e323927",
   "metadata": {},
   "outputs": [
    {
     "name": "stdout",
     "output_type": "stream",
     "text": [
      "Метод случайного леса: ROC AUC=0.7635922586088699\n"
     ]
    }
   ],
   "source": [
    "rfc_probs = rfc.predict_proba(x_test)\n",
    "rfc_probs = rfc_probs[:, 1]\n",
    "rfc_auc = roc_auc_score(y_test, rfc_probs)\n",
    "print('Метод случайного леса: ROC AUC=' + str(rfc_auc))\n",
    "fpr_rfc, tpr_rfc, treshold = roc_curve(y_test, rfc_probs)\n",
    "rfc_roc_auc = auc(fpr_rfc, tpr_rfc)"
   ]
  },
  {
   "cell_type": "markdown",
   "id": "ce89e48a",
   "metadata": {},
   "source": [
    "Построим графики ROC-кривых:"
   ]
  },
  {
   "cell_type": "code",
   "execution_count": 29,
   "id": "f1330abf",
   "metadata": {},
   "outputs": [
    {
     "data": {
      "image/png": "[encoded data removed]",
      "text/plain": [
       "<Figure size 432x288 with 1 Axes>"
      ]
     },
     "metadata": {
      "needs_background": "light"
     },
     "output_type": "display_data"
    }
   ],
   "source": [
    "plt.plot(fpr_knn, tpr_knn, color='red',\n",
    "         label='ROC кривая метода k-ближайших соседей' % knn_roc_auc)\n",
    "plt.plot(fpr_lr, tpr_lr, color='green',\n",
    "         label='ROC кривая логистической регрессии' % lr_roc_auc)\n",
    "plt.plot(fpr_rfc, tpr_rfc, color='blue',\n",
    "         label='ROC кривая метода случайного леса' % rfc_roc_auc)\n",
    "plt.plot([0, 1], [0, 1], color='black', linestyle='--', label='Случайный прогноз')\n",
    "plt.xlim([0.0, 1.0])\n",
    "plt.ylim([0.0, 1.05])\n",
    "plt.xlabel('False Positive Rate')\n",
    "plt.ylabel('True Positive Rate')\n",
    "plt.title('ROC-кривые')\n",
    "plt.legend(loc=\"lower right\")\n",
    "plt.show()"
   ]
  },
  {
   "cell_type": "markdown",
   "id": "7ed9e0c3",
   "metadata": {},
   "source": [
    "Вывод: в ходе выполнения лабораторной работы изучены алгоритмы и методы классификации данных. Были разработаны предсказательные модели, вычисляющие по набору признаков, на наличие сердечного заболевания на основе методов: k- ближайших соседей, логистической регрессии. Были высчитаны метрики, позволяющие оценить качество работы классификаторов. Лучше всего высчитывает предсказания классификатор, основанный на методе логистической регрессии, а хуже всех себя показал метод k-ближайших соседей. Тем не менее, все три метода классификации данных показали неплохие результаты. Для каждого метода были, также, были построены матрицы неточностей и график ROC-кривых, который подтвердил полученные оценки качества работы методов классификации."
   ]
  },
  {
   "cell_type": "markdown",
   "id": "2e91aa31",
   "metadata": {},
   "source": [
    "### Дополнительное задание"
   ]
  },
  {
   "cell_type": "markdown",
   "id": "d46eef78",
   "metadata": {},
   "source": [
    "Не существует конкретного способа определить наилучшее значение для k, поэтому нам нужно попробовать несколько значений, чтобы найти лучшее из них. Но чаще всего наиболее предпочтительным значением для k является 5:\n",
    "Низкое значение k, например, 1 или 2, может привести к эффекту недообучения модели.\n",
    "Высокое значение k на первый взгляд выглядит приемлемо, однако возможны трудности с производительностью модели, а также повышается риск переобучения."
   ]
  },
  {
   "cell_type": "code",
   "execution_count": null,
   "id": "e4c894be",
   "metadata": {},
   "outputs": [],
   "source": []
  }
 ],
 "metadata": {
  "kernelspec": {
   "display_name": "Python 3 (ipykernel)",
   "language": "python",
   "name": "python3"
  },
  "language_info": {
   "codemirror_mode": {
    "name": "ipython",
    "version": 3
   },
   "file_extension": ".py",
   "mimetype": "text/x-python",
   "name": "python",
   "nbconvert_exporter": "python",
   "pygments_lexer": "ipython3",
   "version": "3.9.12"
  }
 },
 "nbformat": 4,
 "nbformat_minor": 5
}
